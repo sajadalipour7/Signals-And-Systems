{
 "cells": [
  {
   "cell_type": "code",
   "execution_count": 86,
   "id": "a218523a",
   "metadata": {},
   "outputs": [],
   "source": [
    "import numpy as np\n",
    "import matplotlib.pyplot as plt"
   ]
  },
  {
   "cell_type": "code",
   "execution_count": 87,
   "id": "45816833",
   "metadata": {},
   "outputs": [],
   "source": [
    "def plot_ct_signal(t, x_t):\n",
    "    plt.plot(t,x_t)\n",
    "    plt.grid()\n",
    "    pass\n",
    "def plot_dt_signal(n, x_n):\n",
    "    index=0\n",
    "    for i in n:\n",
    "        tmpx=[i,i]\n",
    "        tmpy=[0,x_n[index]]\n",
    "        index+=1\n",
    "        plt.plot(tmpx,tmpy,c='tab:blue')\n",
    "    plt.scatter(n,x_n)\n",
    "    plt.grid()\n",
    "    pass"
   ]
  },
  {
   "cell_type": "markdown",
   "id": "00700c12",
   "metadata": {},
   "source": [
    "# First System :"
   ]
  },
  {
   "cell_type": "code",
   "execution_count": 88,
   "id": "e8a5b897",
   "metadata": {},
   "outputs": [],
   "source": [
    "def x_n_func(n):\n",
    "    return (np.heaviside(n-5,0)-np.heaviside(n+5,0))*((0.25)**n)\n",
    "def h_n_func(n):\n",
    "    return np.heaviside(n-10,0)-np.heaviside(n+10,0)"
   ]
  },
  {
   "cell_type": "code",
   "execution_count": 89,
   "id": "6266e483",
   "metadata": {},
   "outputs": [],
   "source": [
    "def convolution_element_first(n,start,finish):\n",
    "    '''\n",
    "    calculates convolution for an specific n: y(n) = x(n)*h(n)\n",
    "    '''\n",
    "    conv_ans=0\n",
    "    for i in range(start,finish):\n",
    "        conv_ans+=x_n_func(i)*h_n_func(n-i)\n",
    "    return conv_ans"
   ]
  },
  {
   "cell_type": "code",
   "execution_count": 90,
   "id": "306c62f5",
   "metadata": {},
   "outputs": [],
   "source": [
    "def complete_convolution_first(n):\n",
    "    '''\n",
    "    calculates convolution for all n using \"convolution_element_first()\" function\n",
    "    '''\n",
    "    y=[]\n",
    "    for i in n:\n",
    "        y.append(convolution_element_first(i,-1*len(n),len(n)))\n",
    "    return y"
   ]
  },
  {
   "cell_type": "markdown",
   "id": "a3d2d5f2",
   "metadata": {},
   "source": [
    "### First we plot convolution with our function :"
   ]
  },
  {
   "cell_type": "code",
   "execution_count": 91,
   "id": "7edca831",
   "metadata": {},
   "outputs": [
    {
     "data": {
      "image/png": "[encoded data removed]",
      "text/plain": [
       "<Figure size 432x288 with 1 Axes>"
      ]
     },
     "metadata": {
      "needs_background": "light"
     },
     "output_type": "display_data"
    }
   ],
   "source": [
    "n = np.arange(-25, 25, step=1)\n",
    "y_n = complete_convolution_first(n)\n",
    "plot_dt_signal(n,y_n)"
   ]
  },
  {
   "cell_type": "markdown",
   "id": "9a667977",
   "metadata": {},
   "source": [
    "### Now we plot convolution using numpy :"
   ]
  },
  {
   "cell_type": "code",
   "execution_count": 92,
   "id": "f00103d1",
   "metadata": {},
   "outputs": [
    {
     "data": {
      "image/png": "[encoded data removed]",
      "text/plain": [
       "<Figure size 432x288 with 1 Axes>"
      ]
     },
     "metadata": {
      "needs_background": "light"
     },
     "output_type": "display_data"
    }
   ],
   "source": [
    "x_n=(np.heaviside(n-5,0)-np.heaviside(n+5,0))*((0.25)**n)\n",
    "h_n=np.heaviside(n-10,0)-np.heaviside(n+10,0)\n",
    "y_n=np.convolve(x_n,h_n)\n",
    "plot_dt_signal(n,y_n[25:75]) # 25-75 is scaled index of np.convolve"
   ]
  },
  {
   "cell_type": "markdown",
   "id": "a970967e",
   "metadata": {},
   "source": [
    "## As we saw above the plots are the same."
   ]
  },
  {
   "cell_type": "markdown",
   "id": "fd606271",
   "metadata": {},
   "source": [
    "# Second System :"
   ]
  },
  {
   "cell_type": "code",
   "execution_count": 93,
   "id": "256d29f2",
   "metadata": {},
   "outputs": [],
   "source": [
    "def x_t_func(n):\n",
    "    return 0.5*(np.heaviside(-n,0))*(np.exp(2*n))\n",
    "def h_t_func(n):\n",
    "    return np.heaviside(n+3,0)-np.heaviside(n-3,0)"
   ]
  },
  {
   "cell_type": "code",
   "execution_count": 108,
   "id": "244633fd",
   "metadata": {},
   "outputs": [],
   "source": [
    "def convolution_element_second(n,start,finish):\n",
    "    '''\n",
    "    calculates convolution for an specific t: y(t) = x(t)*h(t)\n",
    "    '''\n",
    "    conv_ans=0\n",
    "    i=start\n",
    "    while i<=finish:\n",
    "        conv_ans+=x_t_func(i)*h_t_func(n-i)\n",
    "        i+=0.1\n",
    "    return conv_ans"
   ]
  },
  {
   "cell_type": "code",
   "execution_count": 109,
   "id": "092f0a9c",
   "metadata": {},
   "outputs": [],
   "source": [
    "def complete_convolution_second(n):\n",
    "    '''\n",
    "    calculates convolution for all n using \"convolution_element_second()\" function\n",
    "    '''\n",
    "    y=[]\n",
    "    for i in n:\n",
    "        y.append(convolution_element_second(i,-1*len(n),len(n)))\n",
    "    return y"
   ]
  },
  {
   "cell_type": "markdown",
   "id": "3a3b59ac",
   "metadata": {},
   "source": [
    "### First we plot convolution with our function :"
   ]
  },
  {
   "cell_type": "code",
   "execution_count": 110,
   "id": "df97cb58",
   "metadata": {},
   "outputs": [
    {
     "data": {
      "image/png": "[encoded data removed]",
      "text/plain": [
       "<Figure size 432x288 with 1 Axes>"
      ]
     },
     "metadata": {
      "needs_background": "light"
     },
     "output_type": "display_data"
    }
   ],
   "source": [
    "t=np.arange(-15,15,step=0.1)\n",
    "y_t=complete_convolution_second(t)\n",
    "plot_ct_signal(t,y_t)"
   ]
  },
  {
   "cell_type": "markdown",
   "id": "861f663b",
   "metadata": {},
   "source": [
    "### Now we plot convolution using numpy :"
   ]
  },
  {
   "cell_type": "code",
   "execution_count": 111,
   "id": "850a1a18",
   "metadata": {},
   "outputs": [
    {
     "data": {
      "image/png": "[encoded data removed]",
      "text/plain": [
       "<Figure size 432x288 with 1 Axes>"
      ]
     },
     "metadata": {
      "needs_background": "light"
     },
     "output_type": "display_data"
    }
   ],
   "source": [
    "x_t=0.5*(np.heaviside(-t,0))*(np.exp(2*t))\n",
    "h_t=np.heaviside(t+3,0)-np.heaviside(t-3,0)\n",
    "y_t=np.convolve(x_t,h_t)\n",
    "plot_ct_signal(t,y_t[150:450]) # 150-450 is scaled index of np.convolve"
   ]
  },
  {
   "cell_type": "markdown",
   "id": "8269d5af",
   "metadata": {},
   "source": [
    "## As we saw above the plots are the same."
   ]
  },
  {
   "cell_type": "code",
   "execution_count": null,
   "id": "43e012ce",
   "metadata": {},
   "outputs": [],
   "source": []
  }
 ],
 "metadata": {
  "kernelspec": {
   "display_name": "Python 3",
   "language": "python",
   "name": "python3"
  },
  "language_info": {
   "codemirror_mode": {
    "name": "ipython",
    "version": 3
   },
   "file_extension": ".py",
   "mimetype": "text/x-python",
   "name": "python",
   "nbconvert_exporter": "python",
   "pygments_lexer": "ipython3",
   "version": "3.8.8"
  }
 },
 "nbformat": 4,
 "nbformat_minor": 5
}
