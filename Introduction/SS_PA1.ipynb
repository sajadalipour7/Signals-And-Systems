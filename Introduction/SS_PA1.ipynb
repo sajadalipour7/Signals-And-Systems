{
 "cells": [
  {
   "cell_type": "markdown",
   "id": "voluntary-lingerie",
   "metadata": {},
   "source": [
    "# Programming Assignment #1 \n",
    "In the required part of this programming assignment, we are going to plot some CT and DT signals. As it was mentioned in the PDF, this part has **20** scores.\n",
    "\n",
    "In the optional part, we are going to determine the properties of a mysterious system!! This part has **7** bonus scores."
   ]
  },
  {
   "cell_type": "code",
   "execution_count": null,
   "id": "trying-colleague",
   "metadata": {},
   "outputs": [],
   "source": [
    "import numpy as np\n",
    "import matplotlib.pyplot as plt"
   ]
  },
  {
   "cell_type": "markdown",
   "id": "interim-universal",
   "metadata": {},
   "source": [
    "## 1. Signal plotting\n",
    "In this section, we learn how to plot signals by some examples to become familiar with some basic functions of **NumPy** and **Matplotlib**.\n",
    "\n",
    "To define a signal using NumPy, you need to create two arrays: $t$ and $x(t)$ in continuous-time case or $n$ and $x[n]$ in discrete-time case.\n",
    "For plotting the signals, we defined plot_ct_signal (for continuous-time signals) and plot_dt_signal (for discrete-time signals). You have to write the body of these functions:\n",
    "\n",
    "* plot_ct_signal(t, x_t)\n",
    "* plot_dt_signal(n, x_n)\n",
    "\n",
    "\n",
    "For example, to plot the following signals:\n",
    "\n",
    "* Continuous-Time: $ x(t)\\:=\\:sin(t)\\:\\:;\\:\\:\\:step\\:=\\:0.01\\:\\:;\\:\\:interval\\:=\\:[-3\\pi \\:,\\:3\\pi] $\n",
    "* Discrete-Time: $ x[n]\\:=\\:sin(n)\\:\\:;\\:\\:interval\\:=\\:[-10 \\:,\\:10] $\n",
    "\n",
    "We can use:\n",
    "```\n",
    "t = np.arange(-3 * np.pi, 3 * np.pi, step=0.01)\n",
    "x_t = np.sin(t)\n",
    "plot_ct_signal(t=t, x_t=x_t)\n",
    "```\n",
    "Which results in:\n",
    "\n",
    "<img src=\"https://www.uplooder.net/img/image/27/70b50eb424d5136b325d4e29953b76ff/CT-Sinusoid.png\" width=\"80%\" />\n",
    "\n",
    "\n",
    "Or for DT:\n",
    "```\n",
    "n = np.arange(-10, 10, step=1)\n",
    "x_n = np.sin(n)\n",
    "plot_dt_signal(n=n, x_n=x_n)\n",
    "```\n",
    "\n",
    "Which results in:\n",
    "\n",
    "<img src=\"https://www.uplooder.net/img/image/95/1677650e4029e8ab6aefda4e2e98d52f/DT-Sinusoid.png\" width=\"80%\" />"
   ]
  },
  {
   "cell_type": "markdown",
   "id": "radical-kennedy",
   "metadata": {},
   "source": [
    "### 1.a) Complete the following functions."
   ]
  },
  {
   "cell_type": "code",
   "execution_count": null,
   "id": "mobile-confidentiality",
   "metadata": {},
   "outputs": [],
   "source": [
    "def plot_ct_signal(t, x_t):\n",
    "    pass"
   ]
  },
  {
   "cell_type": "code",
   "execution_count": null,
   "id": "systematic-approach",
   "metadata": {},
   "outputs": [],
   "source": [
    "t = np.arange(-3 * np.pi, 3 * np.pi, step=0.01)\n",
    "x_t = np.sin(t)\n",
    "plot_ct_signal(t=t, x_t=x_t)"
   ]
  },
  {
   "cell_type": "code",
   "execution_count": null,
   "id": "early-bowling",
   "metadata": {},
   "outputs": [],
   "source": [
    "def plot_dt_signal(n, x_n):\n",
    "    pass"
   ]
  },
  {
   "cell_type": "code",
   "execution_count": null,
   "id": "international-processor",
   "metadata": {},
   "outputs": [],
   "source": [
    "n = np.arange(-10, 10, step=1)\n",
    "x_n = np.sin(n)\n",
    "plot_dt_signal(n=n, x_n=x_n)"
   ]
  },
  {
   "cell_type": "markdown",
   "id": "increased-invite",
   "metadata": {},
   "source": []
  },
  {
   "cell_type": "markdown",
   "id": "voluntary-population",
   "metadata": {},
   "source": [
    "### 1.b) Now plot the following signals."
   ]
  },
  {
   "cell_type": "markdown",
   "id": "practical-accounting",
   "metadata": {},
   "source": [
    "#### Continuous-Time signals:"
   ]
  },
  {
   "cell_type": "markdown",
   "id": "satisfactory-leonard",
   "metadata": {},
   "source": [
    "1. $x_1(t)\\:=\\:e^{0.5t}u(-t+4)\\:\\:;\\:\\:step\\:=\\:0.01\\:\\:;\\:\\:\\:interval\\:=\\:[-10,\\:10]$"
   ]
  },
  {
   "cell_type": "code",
   "execution_count": null,
   "id": "maritime-ethernet",
   "metadata": {},
   "outputs": [],
   "source": []
  },
  {
   "cell_type": "markdown",
   "id": "young-candidate",
   "metadata": {},
   "source": [
    "2. $x(t) = \\begin{cases}-1 & t < -1\\\\t & -1 \\leq t \\leq 1\\\\cos(t-1) & t > 1\\end{cases}\\:\\:\\:\\:\\:;\\:\\:step\\:=\\:0.01\\:\\:;\\:\\:interval\\:=\\:[-4,\\:4]$"
   ]
  },
  {
   "cell_type": "code",
   "execution_count": null,
   "id": "patient-casino",
   "metadata": {},
   "outputs": [],
   "source": []
  },
  {
   "cell_type": "markdown",
   "id": "juvenile-collins",
   "metadata": {},
   "source": [
    "3. $x_3(t)\\:=\\:\\sum _{n=-20}^{20}\\:e^{-|2t+n|}\\:\\:;\\:\\:step\\:=\\:0.01\\:\\:;\\:\\:interval\\:=\\:[-5 \\:,\\:5]$"
   ]
  },
  {
   "cell_type": "code",
   "execution_count": null,
   "id": "north-forum",
   "metadata": {},
   "outputs": [],
   "source": []
  },
  {
   "cell_type": "markdown",
   "id": "specified-orlando",
   "metadata": {},
   "source": [
    "#### Discrete-Time signals:"
   ]
  },
  {
   "cell_type": "markdown",
   "id": "transsexual-pottery",
   "metadata": {},
   "source": [
    "1. $x_1[n] = sin(2.3\\pi n) + cos(4.3\\pi n)\\:\\:;\\:\\:interval\\:=\\:[-20,\\:20]$"
   ]
  },
  {
   "cell_type": "code",
   "execution_count": null,
   "id": "strategic-suite",
   "metadata": {},
   "outputs": [],
   "source": []
  },
  {
   "cell_type": "markdown",
   "id": "original-suspect",
   "metadata": {},
   "source": [
    "2. $x_2[n] = sin(4.3\\pi n) + cos(6.3\\pi n)\\:\\:;\\:\\:interval\\:=\\:[-20,\\:20]$"
   ]
  },
  {
   "cell_type": "code",
   "execution_count": null,
   "id": "exact-bathroom",
   "metadata": {},
   "outputs": [],
   "source": []
  },
  {
   "cell_type": "markdown",
   "id": "lightweight-business",
   "metadata": {},
   "source": [
    "3. $x_3[n] = u[n-3] - u[-n+3] + 2\\delta[n] \\:\\:;\\:\\:interval\\:=\\:[-10,\\:10]$"
   ]
  },
  {
   "cell_type": "code",
   "execution_count": null,
   "id": "simplified-vacation",
   "metadata": {},
   "outputs": [],
   "source": []
  },
  {
   "cell_type": "markdown",
   "id": "promotional-singles",
   "metadata": {},
   "source": [
    "## System properties (Optional)\n",
    "One objective of Signals and Systems course is analyzing systems behavior. Most of the time, there is no explicit equation for the system. As we continue in this course, you will see that LTI systems play an important role in signals and systems analysis.\n",
    "\n",
    "So here we try to guess the **linearity and time-invariant** properties of an unknown discrete-time system. By giving appropriate inputs to the system, you can have a good guess.\n",
    "\n",
    "To get system's output, create two arrays, $n$ and $x[n]$, like those we created in the first part. Then input these arrays to the provided function, `get_system_output`, to get the system's output. You can plot the output to analyze it. Repeat this with different signals to determine the two properties. (Note that you need an internet connection to get the output)\n",
    "\n",
    "For instance, consider this input:\n",
    "```\n",
    "n = np.arange(-10, 10, step=1)\n",
    "x_n = np.sin(n)\n",
    "n1, y_n1 = get_system_output(n, x_n)\n",
    "plot_dt_signal(n=n1, x_n=y_n1)\n",
    "```\n",
    "\n",
    "<img src=\"https://www.uplooder.net/img/image/66/2024348e0ced99a0c6f401598073edd0/Mysterious.png\" width=\"80%\" />\n",
    "\n",
    "Find out the properties of this mysterious (!) system and explain why do you think they are the case."
   ]
  },
  {
   "cell_type": "code",
   "execution_count": null,
   "id": "bulgarian-procedure",
   "metadata": {},
   "outputs": [],
   "source": [
    "!pip install requests\n",
    "from system import get_system_output"
   ]
  },
  {
   "cell_type": "code",
   "execution_count": null,
   "id": "nuclear-mother",
   "metadata": {},
   "outputs": [],
   "source": []
  }
 ],
 "metadata": {
  "kernelspec": {
   "display_name": "Python 3",
   "language": "python",
   "name": "python3"
  },
  "language_info": {
   "codemirror_mode": {
    "name": "ipython",
    "version": 3
   },
   "file_extension": ".py",
   "mimetype": "text/x-python",
   "name": "python",
   "nbconvert_exporter": "python",
   "pygments_lexer": "ipython3",
   "version": "3.9.1"
  }
 },
 "nbformat": 4,
 "nbformat_minor": 5
}
